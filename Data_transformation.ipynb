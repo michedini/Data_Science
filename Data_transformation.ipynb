{
  "nbformat": 4,
  "nbformat_minor": 0,
  "metadata": {
    "colab": {
      "name": "Data transformation.ipynb",
      "provenance": [],
      "authorship_tag": "ABX9TyMvtk8UGVvCi6zO+yyt3AHo",
      "include_colab_link": true
    },
    "kernelspec": {
      "name": "python3",
      "display_name": "Python 3"
    },
    "language_info": {
      "name": "python"
    }
  },
  "cells": [
    {
      "cell_type": "markdown",
      "metadata": {
        "id": "view-in-github",
        "colab_type": "text"
      },
      "source": [
        "<a href=\"https://colab.research.google.com/github/michedini/Data_Science/blob/main/Data_transformation.ipynb\" target=\"_parent\"><img src=\"https://colab.research.google.com/assets/colab-badge.svg\" alt=\"Open In Colab\"/></a>"
      ]
    },
    {
      "cell_type": "code",
      "source": [
        "import pandas as pd\n",
        "import numpy as np"
      ],
      "metadata": {
        "id": "7rwC_EEhbqi-"
      },
      "execution_count": 1,
      "outputs": []
    },
    {
      "cell_type": "code",
      "execution_count": 2,
      "metadata": {
        "colab": {
          "base_uri": "https://localhost:8080/",
          "height": 245
        },
        "id": "FgsPb8-dbolX",
        "outputId": "fc15c667-2bec-4932-bb0a-22eebad139ae"
      },
      "outputs": [
        {
          "output_type": "error",
          "ename": "NameError",
          "evalue": "ignored",
          "traceback": [
            "\u001b[0;31m---------------------------------------------------------------------------\u001b[0m",
            "\u001b[0;31mNameError\u001b[0m                                 Traceback (most recent call last)",
            "\u001b[0;32m<ipython-input-2-f1c59e539727>\u001b[0m in \u001b[0;36m<module>\u001b[0;34m()\u001b[0m\n\u001b[0;32m----> 1\u001b[0;31m \u001b[0;32mdef\u001b[0m \u001b[0mtransformation\u001b[0m\u001b[0;34m(\u001b[0m\u001b[0mold\u001b[0m\u001b[0;34m,\u001b[0m \u001b[0mnew\u001b[0m\u001b[0;34m,\u001b[0m \u001b[0mfunction\u001b[0m\u001b[0;34m,\u001b[0m \u001b[0mdf\u001b[0m \u001b[0;34m=\u001b[0m \u001b[0mdf\u001b[0m\u001b[0;34m)\u001b[0m\u001b[0;34m:\u001b[0m\u001b[0;34m\u001b[0m\u001b[0;34m\u001b[0m\u001b[0m\n\u001b[0m\u001b[1;32m      2\u001b[0m     '''Transforms non-normally distributed values\n\u001b[1;32m      3\u001b[0m \u001b[0;34m\u001b[0m\u001b[0m\n\u001b[1;32m      4\u001b[0m     \u001b[0mParams\u001b[0m\u001b[0;34m:\u001b[0m\u001b[0;34m\u001b[0m\u001b[0;34m\u001b[0m\u001b[0m\n\u001b[1;32m      5\u001b[0m         \u001b[0mold\u001b[0m\u001b[0;34m:\u001b[0m \u001b[0mstring\u001b[0m\u001b[0;34m,\u001b[0m\u001b[0;34m\u001b[0m\u001b[0;34m\u001b[0m\u001b[0m\n",
            "\u001b[0;31mNameError\u001b[0m: name 'df' is not defined"
          ]
        }
      ],
      "source": [
        "def transformation(old, new, function, df = df):\n",
        "    '''Transforms non-normally distributed values\n",
        "    \n",
        "    Params:\n",
        "        old: string,\n",
        "            The label of the column to be transformed.\n",
        "        new: string,\n",
        "            The label of the new column containing the transformed data.\n",
        "        function: string, ('sqrt', 'cube_root', or 'np.log'\n",
        "            The function to apply to transform the data.\n",
        "        df: Pandas dataframe.\n",
        "        \n",
        "    Returns:\n",
        "        Adds new pandas series with the transformed data to the dataframe'''\n",
        "    \n",
        "    df[new] = np.empty\n",
        "    if function == 'np.log':\n",
        "        if 0 in df[new]:\n",
        "            df[new] = np.log(df[old]+ 1)\n",
        "        else:\n",
        "            df[new] = np.log(df[old])\n",
        "    elif function == 'cube_root':\n",
        "        df[new] = df[old]**(1/3)\n",
        "    elif function == 'sqrt':\n",
        "        df[new] = np.sqrt(df[old])\n",
        "    else:\n",
        "        raise ValueError('\"function\" parameter must be either \"np.log\", \"cube_root\", or \"sqrt\"')\n",
        "    return df[['testResultMetricValue','testResultMetricValueCorrected']].head()"
      ]
    }
  ]
}