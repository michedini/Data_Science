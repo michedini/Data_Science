{
  "nbformat": 4,
  "nbformat_minor": 0,
  "metadata": {
    "colab": {
      "name": "Study arm randomizer.ipynb",
      "provenance": [],
      "collapsed_sections": [],
      "authorship_tag": "ABX9TyNvwdpu2TRZPrd7lDR87B9u",
      "include_colab_link": true
    },
    "kernelspec": {
      "name": "python3",
      "display_name": "Python 3"
    },
    "language_info": {
      "name": "python"
    }
  },
  "cells": [
    {
      "cell_type": "markdown",
      "metadata": {
        "id": "view-in-github",
        "colab_type": "text"
      },
      "source": [
        "<a href=\"https://colab.research.google.com/github/michedini/Data_Science/blob/main/Study_arm_randomizer.ipynb\" target=\"_parent\"><img src=\"https://colab.research.google.com/assets/colab-badge.svg\" alt=\"Open In Colab\"/></a>"
      ]
    },
    {
      "cell_type": "code",
      "source": [
        "import numpy as np\n",
        "import random\n",
        "\n",
        "def random_allocator(list, n = 1):\n",
        "\n",
        "    \"\"\"\n",
        "    This function randomly allocates subjects to desired categories\n",
        "    \n",
        "    Parameters\n",
        "    ==========\n",
        "    list : list,\n",
        "        A list of category labels to randomize.\n",
        "    n : int, default = 1,\n",
        "        The desired sample size\n",
        "    \"\"\" \n",
        "\n",
        "    rng = np.random.default_rng()\n",
        "    array = np.empty([n, len(list)], dtype = \"U99\",) \n",
        "\n",
        "    for i in range(n):\n",
        "       array[i] = random.sample(list, len(list))\n",
        "    return array\n",
        "\n",
        "labels = ['a',           #Define category labels\n",
        "          'b',\n",
        "          'c',\n",
        "          'd']\n",
        "\n",
        "randomized_array = random_allocator(labels, 100)"
      ],
      "metadata": {
        "id": "aq3Bu8sjjmJ2"
      },
      "execution_count": 10,
      "outputs": []
    },
    {
      "cell_type": "code",
      "source": [
        "#Export as excel\n",
        "\n",
        "import pandas as pd\n",
        "\n",
        "df = pd.DataFrame(randomized_array)\n",
        "df.to_excel(\"Randomized sample.xlsx\")"
      ],
      "metadata": {
        "id": "4Nt7x1PHvkdS"
      },
      "execution_count": 14,
      "outputs": []
    }
  ]
}