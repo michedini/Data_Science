{
  "nbformat": 4,
  "nbformat_minor": 0,
  "metadata": {
    "colab": {
      "name": "Study arm randomizer.ipynb",
      "provenance": [],
      "collapsed_sections": [],
      "authorship_tag": "ABX9TyM5X1XZBDEN6zBCu+2ZUv5M",
      "include_colab_link": true
    },
    "kernelspec": {
      "name": "python3",
      "display_name": "Python 3"
    },
    "language_info": {
      "name": "python"
    }
  },
  "cells": [
    {
      "cell_type": "markdown",
      "metadata": {
        "id": "view-in-github",
        "colab_type": "text"
      },
      "source": [
        "<a href=\"https://colab.research.google.com/github/michedini/Data_Science/blob/main/Study_arm_randomizer.ipynb\" target=\"_parent\"><img src=\"https://colab.research.google.com/assets/colab-badge.svg\" alt=\"Open In Colab\"/></a>"
      ]
    },
    {
      "cell_type": "code",
      "source": [
        "import numpy as np\n",
        "import random\n",
        "\n",
        "def random_allocator(list, n):\n",
        "\n",
        "    \"\"\" This function randomly allocates subjects to desired categories \"\"\" \n",
        "\n",
        "    rng = np.random.default_rng()\n",
        "    array = np.empty([n, len(list)], dtype = \"U99\",) \n",
        "\n",
        "    for i in range(n):\n",
        "       array[i] = random.sample(list, len(list))\n",
        "    return array\n",
        "\n",
        "labels = ['a',           #Define category labels\n",
        "          'b',\n",
        "          'c',\n",
        "          'd']\n",
        "\n",
        "random_allocator(labels, 1000)"
      ],
      "metadata": {
        "colab": {
          "base_uri": "https://localhost:8080/"
        },
        "id": "aq3Bu8sjjmJ2",
        "outputId": "e1dd48da-e0d5-4b33-aa24-68506174c2ec"
      },
      "execution_count": 5,
      "outputs": [
        {
          "output_type": "execute_result",
          "data": {
            "text/plain": [
              "array([['a', 'c', 'b', 'd'],\n",
              "       ['b', 'a', 'c', 'd'],\n",
              "       ['c', 'a', 'b', 'd'],\n",
              "       ...,\n",
              "       ['a', 'b', 'c', 'd'],\n",
              "       ['b', 'd', 'c', 'a'],\n",
              "       ['c', 'b', 'a', 'd']], dtype='<U99')"
            ]
          },
          "metadata": {},
          "execution_count": 5
        }
      ]
    }
  ]
}