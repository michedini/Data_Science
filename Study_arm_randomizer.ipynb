{
  "nbformat": 4,
  "nbformat_minor": 0,
  "metadata": {
    "colab": {
      "name": "Study arm randomizer.ipynb",
      "provenance": [],
      "collapsed_sections": [],
      "authorship_tag": "ABX9TyO2N5dmxRKTipc/w3NhKsJD",
      "include_colab_link": true
    },
    "kernelspec": {
      "name": "python3",
      "display_name": "Python 3"
    },
    "language_info": {
      "name": "python"
    }
  },
  "cells": [
    {
      "cell_type": "markdown",
      "metadata": {
        "id": "view-in-github",
        "colab_type": "text"
      },
      "source": [
        "<a href=\"https://colab.research.google.com/github/michedini/Data_Science/blob/main/Study_arm_randomizer.ipynb\" target=\"_parent\"><img src=\"https://colab.research.google.com/assets/colab-badge.svg\" alt=\"Open In Colab\"/></a>"
      ]
    },
    {
      "cell_type": "code",
      "source": [
        "import numpy as np\n",
        "import random\n",
        "\n",
        "def random_allocator(list, n = 1):\n",
        "    \n",
        "    \"\"\"\n",
        "    This function randomly allocates subjects to desired categories\n",
        "    \n",
        "    Parameters\n",
        "    ==========\n",
        "    list : list,\n",
        "        A list of category labels to randomize.\n",
        "    n : int, default = 1,\n",
        "        The desired sample size\n",
        "    \"\"\" \n",
        "\n",
        "    rng = np.random.default_rng()\n",
        "    array = np.empty([n, len(list)], dtype = \"U99\",) \n",
        "    for i in range(n):\n",
        "       array[i] = random.sample(list, len(list))\n",
        "    return array\n",
        "\n",
        "#Define category labels\n",
        "labels = ['a', 'b', 'c']\n",
        "array = random_allocator(labels, 100)"
      ],
      "metadata": {
        "id": "aq3Bu8sjjmJ2"
      },
      "execution_count": 1,
      "outputs": []
    },
    {
      "cell_type": "code",
      "source": [
        "#Calculate distribution for each arm\n",
        "def dist_calc(array):\n",
        "    import pandas as pd\n",
        "    df = pd.DataFrame(array)\n",
        "    foo = np.empty([len(labels), len(df.columns)])\n",
        "    for column in df.columns:\n",
        "        foo[column] = (df[column].value_counts(sort = False, normalize = True).sort_index())\n",
        "    return foo"
      ],
      "metadata": {
        "id": "B1Df45zfxXXX"
      },
      "execution_count": 2,
      "outputs": []
    },
    {
      "cell_type": "code",
      "source": [
        "dist_calc(array)"
      ],
      "metadata": {
        "colab": {
          "base_uri": "https://localhost:8080/"
        },
        "id": "w7NlHnnC_-nG",
        "outputId": "2494210a-68d4-47e3-ab9e-fe853d49f2d4"
      },
      "execution_count": 3,
      "outputs": [
        {
          "output_type": "execute_result",
          "data": {
            "text/plain": [
              "array([[0.31, 0.33, 0.36],\n",
              "       [0.41, 0.29, 0.3 ],\n",
              "       [0.28, 0.38, 0.34]])"
            ]
          },
          "metadata": {},
          "execution_count": 3
        }
      ]
    },
    {
      "cell_type": "code",
      "source": [
        "#OPTIONAL: Export as excel\n",
        "\n",
        "#import pandas as pd\n",
        "\n",
        "#df = pd.DataFrame(randomized_array)\n",
        "#df.to_excel(\"Randomized sample.xlsx\")"
      ],
      "metadata": {
        "id": "4Nt7x1PHvkdS"
      },
      "execution_count": 4,
      "outputs": []
    }
  ]
}